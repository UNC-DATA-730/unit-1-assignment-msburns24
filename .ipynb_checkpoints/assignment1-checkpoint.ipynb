{
 "cells": [
  {
   "cell_type": "markdown",
   "id": "e757ec2c-1a9a-49c7-928d-ae3e7eb9cefb",
   "metadata": {},
   "source": [
    "## Assignment #1 DATA 730"
   ]
  },
  {
   "cell_type": "markdown",
   "id": "12882e8c-a45f-45ee-b13b-368f0099c67e",
   "metadata": {},
   "source": [
    "This assignment tests that you have the course tech stack set up. If you do, you will be able to complete this notebook and turn-in your work by pushing to your assignment repository."
   ]
  },
  {
   "cell_type": "markdown",
   "id": "50e522b4-c275-4043-a37f-f2e49eb243bd",
   "metadata": {},
   "source": [
    "## Tech stack checklist"
   ]
  },
  {
   "cell_type": "markdown",
   "id": "db31feed-577b-4c7d-a409-6429cad04cfd",
   "metadata": {},
   "source": [
    "*Fill out the checklist below once you have completed each task:*\n",
    "\n",
    "- [ ] GitHub account\n",
    "- [ ] SageMaker Studio Lab account"
   ]
  },
  {
   "cell_type": "markdown",
   "id": "02701813-a27b-45f9-a48b-9cfe343eac65",
   "metadata": {},
   "source": [
    "**Create the `data730` conda environment by right clicking the `environment.yml` file from the repo in SageMaker Studio Lab and selecting `Build conda Environment`.** "
   ]
  },
  {
   "cell_type": "code",
   "execution_count": 1,
   "id": "158255df-7b9f-4cf4-b644-632172a5152e",
   "metadata": {
    "vscode": {
     "languageId": "r"
    }
   },
   "outputs": [
    {
     "name": "stderr",
     "output_type": "stream",
     "text": [
      "Warning message in system(\"conda env list | grep data730\", intern = TRUE):\n",
      "\"running command 'conda env list | grep data730' had status 2\"\n"
     ]
    },
    {
     "data": {
      "text/html": [],
      "text/latex": [],
      "text/markdown": [],
      "text/plain": [
       "character(0)\n",
       "attr(,\"status\")\n",
       "[1] 2"
      ]
     },
     "metadata": {},
     "output_type": "display_data"
    }
   ],
   "source": [
    "# uncomment the following line and execute this cell to demonstrate you have created the data730 conda environment\n",
    "system('conda env list | grep data730', intern = TRUE)"
   ]
  },
  {
   "cell_type": "code",
   "execution_count": 2,
   "id": "dc383334-802a-45bf-bc7e-150fdb963bd1",
   "metadata": {
    "vscode": {
     "languageId": "r"
    }
   },
   "outputs": [
    {
     "ename": "ERROR",
     "evalue": "Error: package or namespace load failed for 'tidymodels' in inDL(x, as.logical(local), as.logical(now), ...):\n unable to load shared object 'C:/Program Files/R/R-4.4.2/library/Matrix/libs/x64/Matrix.dll':\n  LoadLibrary failure:  The specified procedure could not be found.\n\n",
     "output_type": "error",
     "traceback": [
      "Error: package or namespace load failed for 'tidymodels' in inDL(x, as.logical(local), as.logical(now), ...):\n unable to load shared object 'C:/Program Files/R/R-4.4.2/library/Matrix/libs/x64/Matrix.dll':\n  LoadLibrary failure:  The specified procedure could not be found.\n\nTraceback:\n",
      "1. tryCatch({\n .     attr(package, \"LibPath\") <- which.lib.loc\n .     ns <- loadNamespace(package, lib.loc)\n .     env <- attachNamespace(ns, pos = pos, deps, exclude, include.only)\n . }, error = function(e) {\n .     P <- if (!is.null(cc <- conditionCall(e))) \n .         paste(\" in\", deparse(cc)[1L])\n .     else \"\"\n .     msg <- gettextf(\"package or namespace load failed for %s%s:\\n %s\", \n .         sQuote(package), P, conditionMessage(e))\n .     if (logical.return && !quietly) \n .         message(paste(\"Error:\", msg), domain = NA)\n .     else stop(msg, call. = FALSE, domain = NA)\n . })",
      "2. tryCatchList(expr, classes, parentenv, handlers)",
      "3. tryCatchOne(expr, names, parentenv, handlers[[1L]])",
      "4. value[[3L]](cond)",
      "5. stop(msg, call. = FALSE, domain = NA)",
      "6. .handleSimpleError(function (cnd) \n . {\n .     watcher$capture_plot_and_output()\n .     cnd <- sanitize_call(cnd)\n .     watcher$push(cnd)\n .     switch(on_error, continue = invokeRestart(\"eval_continue\"), \n .         stop = invokeRestart(\"eval_stop\"), error = NULL)\n . }, \"package or namespace load failed for 'tidymodels' in inDL(x, as.logical(local), as.logical(now), ...):\\n unable to load shared object 'C:/Program Files/R/R-4.4.2/library/Matrix/libs/x64/Matrix.dll':\\n  LoadLibrary failure:  The specified procedure could not be found.\\n\", \n .     base::quote(NULL))"
     ]
    }
   ],
   "source": [
    "# uncomment the following line and execute this cell to demonstrate that you have installed the tidymodels package\n",
    "library('tidymodels')"
   ]
  },
  {
   "cell_type": "markdown",
   "id": "c6235a95-e0a6-4f7a-865a-b1d891796125",
   "metadata": {},
   "source": [
    "## Let's do some statistical inference!"
   ]
  },
  {
   "cell_type": "markdown",
   "id": "8bc5e612-a5b6-4a90-90fb-989fcce40874",
   "metadata": {},
   "source": [
    "Read [this article](https://www.theguardian.com/world/2002/jan/04/euro.eu2). \n",
    "\n",
    "Execute the code below to investigate whether the coin is fair..."
   ]
  },
  {
   "cell_type": "code",
   "execution_count": null,
   "id": "52e16445-2854-49fe-8c5c-0dfd32e0a9ef",
   "metadata": {
    "vscode": {
     "languageId": "r"
    }
   },
   "outputs": [],
   "source": [
    "# These functions simulate tossing a fair coin n_tosses number of times for\n",
    "# n_iterations number of iterations\n",
    "\n",
    "toss_fair_coin_n_times <- function(n_tosses = 250) {\n",
    "  result <- ifelse(runif(n = n_tosses) < 0.5, \"heads\", \"tails\")\n",
    "  result\n",
    "}\n",
    "\n",
    "repeat_the_experiment <- function(n_iterations, n_tosses = 250) {\n",
    "  n_heads_each_iteration <- c()\n",
    "  for (i in 1:n_iterations) {\n",
    "    n_heads <- sum(toss_fair_coin_n_times(n_tosses) == \"heads\")\n",
    "    n_heads_each_iteration <- c(n_heads_each_iteration, n_heads)\n",
    "  }\n",
    "  n_heads_each_iteration\n",
    "}"
   ]
  },
  {
   "cell_type": "code",
   "execution_count": null,
   "id": "b7211d92",
   "metadata": {
    "vscode": {
     "languageId": "r"
    }
   },
   "outputs": [],
   "source": [
    "n <- 250\n",
    "tosses <- runif(n = 250)\n",
    "result <- ifelse(tosses < 0.5, \"heads\", \"tails\")\n",
    "n_heads <- sum(result == \"heads\")\n",
    "n_heads"
   ]
  },
  {
   "cell_type": "code",
   "execution_count": null,
   "id": "f0333b3d-7cc6-4fa0-813e-f2d4c863be23",
   "metadata": {
    "vscode": {
     "languageId": "r"
    }
   },
   "outputs": [],
   "source": [
    "# Let's do 10,000 experiments of 250 tosses and see how often our outcome\n",
    "# deviates from what was actually observed (139 heads)\n",
    "\n",
    "n_iterations <- 10000\n",
    "n_tosses <- 250\n",
    "observed_deviation <- 139 - 125 # 139 heads observed, fair coin expects 125\n",
    "\n",
    "n_heads_each_experiment <- repeat_the_experiment(n_iterations, n_tosses)\n",
    "x <- mean(abs(n_heads_each_experiment - 125) >= observed_deviation)\n",
    "\n",
    "paste0(\n",
    "  \"With a fair coin we would expect a deviation as large or larger than \",\n",
    "  \"what we observed \",\n",
    "  x*100,\n",
    "  \"% of times\"\n",
    ")"
   ]
  },
  {
   "cell_type": "markdown",
   "id": "ccf71651-a940-455b-8d30-14660b1aade4",
   "metadata": {},
   "source": [
    "**Do you think the coin was fair?** (Answer below in a markdown cell.)"
   ]
  },
  {
   "cell_type": "markdown",
   "id": "c9bdfff1-23f3-41d7-84d7-231e25d4d163",
   "metadata": {},
   "source": [
    "> **Matt's Response:**\n",
    ">\n",
    "> 8.93% seems rather unlikely to happen, but not totally impossible.\n",
    "> This is close to 8.25%, which is 1 in 8. Over-simplifying, the result of this\n",
    "> experiment is (almost) as likely as flipping a heads 4 times in a row. It can\n",
    "> definitely happen, even if it's unlikely.\n",
    ">\n",
    "> Because of this, it seems that we can't reject the possibility that this is a\n",
    "> fair coin."
   ]
  }
 ],
 "metadata": {
  "kernelspec": {
   "display_name": "R",
   "language": "R",
   "name": "ir"
  },
  "language_info": {
   "codemirror_mode": "r",
   "file_extension": ".r",
   "mimetype": "text/x-r-source",
   "name": "R",
   "pygments_lexer": "r",
   "version": "4.3.3"
  }
 },
 "nbformat": 4,
 "nbformat_minor": 5
}
